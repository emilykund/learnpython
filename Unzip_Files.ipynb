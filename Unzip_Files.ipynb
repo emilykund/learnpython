{
 "cells": [
  {
   "cell_type": "code",
   "execution_count": 2,
   "id": "c3d680ce-5355-4360-a737-336cc31c1764",
   "metadata": {},
   "outputs": [],
   "source": [
    "#load packages to unzip files\n",
    "import zipfile\n",
    "import os"
   ]
  },
  {
   "cell_type": "code",
   "execution_count": 3,
   "id": "35e32390-99a2-4789-ab89-facb818d504b",
   "metadata": {},
   "outputs": [],
   "source": [
    "#command to extract zipped files. Note: this command works compared to other ones I tried which were returning a 'no file' error.\n",
    "\n",
    "with zipfile.ZipFile(\"/users/public/college_data.zip\", 'r') as zip_ref:\n",
    "    zip_ref.extractall(\"/users/public/college data\")"
   ]
  },
  {
   "cell_type": "code",
   "execution_count": null,
   "id": "5e186d3b-0d9c-4a22-a170-ac8b41341fde",
   "metadata": {},
   "outputs": [],
   "source": [
    "#checking to see if it executed correctly\n",
    "import os\n",
    "file_path = \"/users/public/college data\"\n",
    "\n",
    "if os.path.exists(file_path):\n",
    "    print(\"Path exists\")\n",
    "    if os.path.isfile(file_path):\n",
    "        print(\"It is a file\")\n",
    "    elif os.path.isdir(file_path):\n",
    "        print(\"It is a directory\")\n",
    "else:\n",
    "    print(\"Path does not exist\")\n"
   ]
  },
  {
   "cell_type": "code",
   "execution_count": null,
   "id": "50ce7bc8-43c0-4159-a725-9d9a4c4a543a",
   "metadata": {},
   "outputs": [],
   "source": []
  }
 ],
 "metadata": {
  "kernelspec": {
   "display_name": "Python [conda env:base] *",
   "language": "python",
   "name": "conda-base-py"
  },
  "language_info": {
   "codemirror_mode": {
    "name": "ipython",
    "version": 3
   },
   "file_extension": ".py",
   "mimetype": "text/x-python",
   "name": "python",
   "nbconvert_exporter": "python",
   "pygments_lexer": "ipython3",
   "version": "3.11.7"
  }
 },
 "nbformat": 4,
 "nbformat_minor": 5
}
