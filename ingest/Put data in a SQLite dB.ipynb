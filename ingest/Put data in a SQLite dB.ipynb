{
 "cells": [
  {
   "cell_type": "code",
   "execution_count": 1,
   "id": "c34f2250-38b4-43c9-ac63-d41a7db4336e",
   "metadata": {},
   "outputs": [],
   "source": [
    "import requests\n",
    "import pandas as pd"
   ]
  },
  {
   "cell_type": "code",
   "execution_count": 2,
   "id": "ba5c22ae-6c46-4dae-9e72-290a77121cd0",
   "metadata": {},
   "outputs": [],
   "source": [
    "import sqlite3"
   ]
  },
  {
   "cell_type": "code",
   "execution_count": 3,
   "id": "d97637be-6c1e-4137-ad37-ed0ddbfb2058",
   "metadata": {},
   "outputs": [],
   "source": [
    "#create a connection to the dB\n",
    "conn = sqlite3.connect('tuition.db') #establishes and maintains access to a dB\n",
    "cursor = conn.cursor() #Allows you to execute queries and fetch results\n"
   ]
  },
  {
   "cell_type": "code",
   "execution_count": 4,
   "id": "0e22cf9b-043f-4a9a-857c-dc5be8988a73",
   "metadata": {},
   "outputs": [
    {
     "data": {
      "text/plain": [
       "'\\n#create a table if it doesn\\'t exist\\ncursor.execute(\\n    CREATE TABLE IF NOT EXISTS tuition (\\n        Sector_Name TEXT,\\n        Unit_ID TEXT,\\n        OPEID TEXT,\\n        Institution_Name TEXT,\\n        State TEXT,\\n        \\'22/23_Tuition\\' REAL\\n);\\n\\n#the reason this didn\\'t work is because of the \"\"\"\\n\\n# Create a table if it doesn\\'t exist\\ncursor.execute(\"\"\"\\n    CREATE TABLE IF NOT EXISTS tuition (\\n        Sector_Name TEXT,\\n        Unit_ID TEXT,\\n        OPEID TEXT,\\n        Institution_Name TEXT,\\n        State TEXT,\\n        \"22/23_Tuition\" REAL\\n  \"\"\"  );\\n)\\nconn.commit()  # Saves changes\\nconn.close()   # Closes the connection when done\\n\\n'"
      ]
     },
     "execution_count": 4,
     "metadata": {},
     "output_type": "execute_result"
    }
   ],
   "source": [
    "'''\n",
    "#create a table if it doesn't exist\n",
    "cursor.execute(\n",
    "    CREATE TABLE IF NOT EXISTS tuition (\n",
    "        Sector_Name TEXT,\n",
    "        Unit_ID TEXT,\n",
    "        OPEID TEXT,\n",
    "        Institution_Name TEXT,\n",
    "        State TEXT,\n",
    "        '22/23_Tuition' REAL\n",
    ");\n",
    "\n",
    "#the reason this didn't work is because of the \"\"\"\n",
    "\n",
    "# Create a table if it doesn't exist\n",
    "cursor.execute(\"\"\"\n",
    "    CREATE TABLE IF NOT EXISTS tuition (\n",
    "        Sector_Name TEXT,\n",
    "        Unit_ID TEXT,\n",
    "        OPEID TEXT,\n",
    "        Institution_Name TEXT,\n",
    "        State TEXT,\n",
    "        \"22/23_Tuition\" REAL\n",
    "  \"\"\"  );\n",
    ")\n",
    "conn.commit()  # Saves changes\n",
    "conn.close()   # Closes the connection when done\n",
    "\n",
    "'''\n",
    "    "
   ]
  },
  {
   "cell_type": "code",
   "execution_count": 5,
   "id": "85d6cea2-83b5-4c02-8f78-d90dc4a6435e",
   "metadata": {},
   "outputs": [],
   "source": [
    "# Create a table if it doesn't exist\n",
    "cursor.execute(\"\"\"\n",
    "    CREATE TABLE IF NOT EXISTS tuition (\n",
    "        Sector_Name TEXT,\n",
    "        Unit_ID TEXT,\n",
    "        OPEID TEXT,\n",
    "        Institution_Name TEXT,\n",
    "        State TEXT,\n",
    "        \"22/23_Tuition\" REAL\n",
    "    );\n",
    "\"\"\")\n",
    "\n",
    "conn.commit()  # Saves changes\n",
    "conn.close()   # Closes the connection when done\n"
   ]
  },
  {
   "cell_type": "code",
   "execution_count": 6,
   "id": "c43a7dbd-6b69-4f8c-8bad-7c655814f481",
   "metadata": {},
   "outputs": [
    {
     "data": {
      "text/plain": [
       "'\\n#verify table and columns were created\\ncursor.execute(\"SELECT name FROM sqlite_master WHERE type=\\'table\\' AND name=\\'tuition\\';\")\\nprint(cursor.fetchone())  # Returns (\\'tuition\\',) if the table exists\\n\\nThis didnt work because I needed to open the connection to the db again. \\nThe below commands are the corrected code.\\n'"
      ]
     },
     "execution_count": 6,
     "metadata": {},
     "output_type": "execute_result"
    }
   ],
   "source": [
    "'''\n",
    "#verify table and columns were created\n",
    "cursor.execute(\"SELECT name FROM sqlite_master WHERE type='table' AND name='tuition';\")\n",
    "print(cursor.fetchone())  # Returns ('tuition',) if the table exists\n",
    "\n",
    "This didnt work because I needed to open the connection to the db again. \n",
    "The below commands are the corrected code.\n",
    "'''"
   ]
  },
  {
   "cell_type": "code",
   "execution_count": 7,
   "id": "7030a89f-4cc8-4a52-810e-7e09fbd3ac0d",
   "metadata": {},
   "outputs": [
    {
     "name": "stdout",
     "output_type": "stream",
     "text": [
      "Table exists:\n",
      "Sector_Name (TEXT)\n",
      "Unit_ID (TEXT)\n",
      "OPEID (TEXT)\n",
      "Institution_Name (TEXT)\n",
      "State (TEXT)\n",
      "22/23_Tuition (REAL)\n"
     ]
    }
   ],
   "source": [
    "\n",
    "# Re-open the connection\n",
    "conn = sqlite3.connect('tuition.db')\n",
    "cursor = conn.cursor()\n",
    "\n",
    "# Check if the table exists\n",
    "cursor.execute(\"SELECT name FROM sqlite_master WHERE type='table' AND name='tuition';\")\n",
    "print(\"Table exists:\" if cursor.fetchone() else \"Table not found.\")\n",
    "\n",
    "# sqlite_master: A special table that lists all the tables, views, indexes, etc., in the database.\n",
    "\n",
    "# Print out column names and types\n",
    "cursor.execute(\"PRAGMA table_info(tuition);\")\n",
    "for col in cursor.fetchall():\n",
    "    print(f\"{col[1]} ({col[2]})\")\n",
    "\n",
    "#PRAGMA table_info(table_name): Returns info about the table's columns — name, type, etc.\n",
    "\n",
    "\n",
    "# Close again after checking\n",
    "conn.close()\n"
   ]
  },
  {
   "cell_type": "code",
   "execution_count": 8,
   "id": "094d19f4-225c-4bea-a023-9f8f6934019b",
   "metadata": {},
   "outputs": [
    {
     "name": "stdout",
     "output_type": "stream",
     "text": [
      "UNITID (REAL)\n",
      "OPEID6 (REAL)\n",
      "INSTNM (TEXT)\n",
      "CIPCODE (REAL)\n",
      "CREDLEV (NUMERIC)\n",
      "CREDDESC (TEXT)\n"
     ]
    }
   ],
   "source": [
    "conn = sqlite3.connect('studyareas.db')\n",
    "cursor = conn.cursor()\n",
    "\n",
    "# Print out column names and types\n",
    "cursor.execute(\"PRAGMA table_info(studyareas);\")\n",
    "for col in cursor.fetchall():\n",
    "    print(f\"{col[1]} ({col[2]})\")\n",
    "\n",
    "conn.commit()  # Saves changes\n",
    "conn.close()   # Closes the connection when done"
   ]
  },
  {
   "cell_type": "code",
   "execution_count": 9,
   "id": "b205558e-4251-4454-b3f7-7864849e9128",
   "metadata": {},
   "outputs": [
    {
     "data": {
      "text/plain": [
       "'\\nconn = sqlite3.connect(\\'studayareas.db\\')\\ncursor = conn.cursor()\\n\\n# Run the SQL command inside a string using cursor.execute\\ncursor.execute(\"ALTER TABLE studyareas.db ADD COLUMN CREDLEV NUMERIC;\")\\n\\nconn.commit()\\nconn.close()\\n\\n#the reason why this didn\\'t work is because I needed to reference the db in the connection command first, and then refer to the table--not the dB (they both have the same name but the db has .db while the table is just the name)\\n'"
      ]
     },
     "execution_count": 9,
     "metadata": {},
     "output_type": "execute_result"
    }
   ],
   "source": [
    "'''\n",
    "conn = sqlite3.connect('studayareas.db')\n",
    "cursor = conn.cursor()\n",
    "\n",
    "# Run the SQL command inside a string using cursor.execute\n",
    "cursor.execute(\"ALTER TABLE studyareas.db ADD COLUMN CREDLEV NUMERIC;\")\n",
    "\n",
    "conn.commit()\n",
    "conn.close()\n",
    "\n",
    "#the reason why this didn't work is because I needed to reference the db in the connection command first, and then refer to the table--not the dB (they both have the same name but the db has .db while the table is just the name)\n",
    "'''\n"
   ]
  },
  {
   "cell_type": "code",
   "execution_count": 10,
   "id": "9fb1e55d-c115-4443-a1e8-a3f1a2129230",
   "metadata": {},
   "outputs": [
    {
     "name": "stdout",
     "output_type": "stream",
     "text": [
      "Column name: UNITID, Data type: REAL\n",
      "Column name: OPEID6, Data type: REAL\n",
      "Column name: INSTNM, Data type: TEXT\n",
      "Column name: CIPCODE, Data type: REAL\n",
      "Column name: CREDLEV, Data type: NUMERIC\n",
      "Column name: CREDDESC, Data type: TEXT\n"
     ]
    }
   ],
   "source": [
    "conn = sqlite3.connect('studyareas.db')\n",
    "cursor = conn.cursor()\n",
    "\n",
    "cursor.execute(\"PRAGMA table_info(studyareas);\")\n",
    "columns = cursor.fetchall()\n",
    "\n",
    "for col in columns:\n",
    "    print(f\"Column name: {col[1]}, Data type: {col[2]}\")\n",
    "    \n",
    "conn.close()\n"
   ]
  },
  {
   "cell_type": "code",
   "execution_count": 11,
   "id": "38983e98-22cb-40a9-9f5b-89efbc5aa8fe",
   "metadata": {},
   "outputs": [
    {
     "name": "stdout",
     "output_type": "stream",
     "text": [
      "✅ Table 'studyareas' deleted successfully.\n"
     ]
    }
   ],
   "source": [
    "# Connect to the database\n",
    "conn = sqlite3.connect('studyareas.db')\n",
    "cursor = conn.cursor()\n",
    "\n",
    "# Delete the table (if it exists)\n",
    "cursor.execute(\"DROP TABLE IF EXISTS studyareas;\")\n",
    "\n",
    "# Commit and close\n",
    "conn.commit()\n",
    "conn.close()\n",
    "\n",
    "print(\"✅ Table 'studyareas' deleted successfully.\")\n"
   ]
  },
  {
   "cell_type": "code",
   "execution_count": 12,
   "id": "e0577ffc-aca5-48e6-82e4-21c406b246ee",
   "metadata": {},
   "outputs": [],
   "source": [
    "# Create a table if it doesn't exist\n",
    "\n",
    "conn = sqlite3.connect('studyareas.db')\n",
    "cursor = conn.cursor()\n",
    "\n",
    "cursor.execute(\"\"\"\n",
    "    CREATE TABLE IF NOT EXISTS studyareas (\n",
    "        UNITID REAL,\n",
    "        OPEID6 REAL,\n",
    "        INSTNM TEXT,\n",
    "        CIPCODE REAL,\n",
    "        CREDLEV NUMERIC,\n",
    "        CREDDESC TEXT\n",
    "    );\n",
    "\"\"\")\n",
    "conn.commit()  # Saves changes\n",
    "conn.close()   # Closes the connection when done"
   ]
  },
  {
   "cell_type": "code",
   "execution_count": 13,
   "id": "679f4a7d-003e-4415-b25e-a4d5ed9c7acb",
   "metadata": {},
   "outputs": [
    {
     "name": "stdout",
     "output_type": "stream",
     "text": [
      "Column name: UNITID, Data type: REAL\n",
      "Column name: OPEID6, Data type: REAL\n",
      "Column name: INSTNM, Data type: TEXT\n",
      "Column name: CIPCODE, Data type: REAL\n",
      "Column name: CREDLEV, Data type: NUMERIC\n",
      "Column name: CREDDESC, Data type: TEXT\n"
     ]
    }
   ],
   "source": [
    "conn = sqlite3.connect('studyareas.db')\n",
    "cursor = conn.cursor()\n",
    "\n",
    "cursor.execute(\"PRAGMA table_info(studyareas);\")\n",
    "columns = cursor.fetchall()\n",
    "\n",
    "for col in columns:\n",
    "    print(f\"Column name: {col[1]}, Data type: {col[2]}\")\n",
    "    \n",
    "conn.close()"
   ]
  },
  {
   "cell_type": "code",
   "execution_count": 14,
   "id": "3c342636-b333-4f6e-bf6e-989057d470cb",
   "metadata": {},
   "outputs": [
    {
     "name": "stdout",
     "output_type": "stream",
     "text": [
      "✅ Data imported successfully.\n"
     ]
    }
   ],
   "source": [
    "#import data from csv into table in SQLite table\n",
    "\n",
    "import csv\n",
    "\n",
    "#add data from csv to table (for Mac)\n",
    "file_path = \"/Users/Public/College_Data/studyareas.csv\"\n",
    "\n",
    "# Connect to your SQLite database\n",
    "conn = sqlite3.connect('studyareas.db')\n",
    "cursor = conn.cursor()\n",
    "\n",
    "# Open the CSV file\n",
    "with open(file_path, 'r', encoding='utf-8') as file:\n",
    "    reader = csv.DictReader(file)  # Automatically uses headers\n",
    "    rows = [\n",
    "        (\n",
    "            row['UNITID'],\n",
    "            row['OPEID6'],\n",
    "            row['INSTNM'],\n",
    "            row['CIPCODE'],\n",
    "            row['CREDLEV'],\n",
    "            row['CREDDESC']\n",
    "        )\n",
    "        for row in reader\n",
    "    ]\n",
    "\n",
    "# Insert the data into your table\n",
    "cursor.executemany(\"\"\"\n",
    "    INSERT INTO studyareas (\n",
    "        UNITID, OPEID6, INSTNM, CIPCODE, CREDLEV, CREDDESC\n",
    "    ) VALUES (?, ?, ?, ?, ?, ?);\n",
    "\"\"\", rows)\n",
    "\n",
    "# Save and close\n",
    "conn.commit()\n",
    "conn.close()\n",
    "\n",
    "print(\"✅ Data imported successfully.\")\n",
    "\n",
    "\n"
   ]
  },
  {
   "cell_type": "code",
   "execution_count": 15,
   "id": "f3e497e1-a336-43d7-bf25-0d0a01d16c04",
   "metadata": {},
   "outputs": [
    {
     "ename": "KeyError",
     "evalue": "'Sector Name'",
     "output_type": "error",
     "traceback": [
      "\u001b[0;31m---------------------------------------------------------------------------\u001b[0m",
      "\u001b[0;31mKeyError\u001b[0m                                  Traceback (most recent call last)",
      "Cell \u001b[0;32mIn[15], line 15\u001b[0m\n\u001b[1;32m     13\u001b[0m \u001b[38;5;28;01mwith\u001b[39;00m \u001b[38;5;28mopen\u001b[39m(file_path, \u001b[38;5;124m'\u001b[39m\u001b[38;5;124mr\u001b[39m\u001b[38;5;124m'\u001b[39m, encoding\u001b[38;5;241m=\u001b[39m\u001b[38;5;124m'\u001b[39m\u001b[38;5;124mutf-8\u001b[39m\u001b[38;5;124m'\u001b[39m) \u001b[38;5;28;01mas\u001b[39;00m file:\n\u001b[1;32m     14\u001b[0m     reader \u001b[38;5;241m=\u001b[39m csv\u001b[38;5;241m.\u001b[39mDictReader(file)  \u001b[38;5;66;03m# Automatically uses headers\u001b[39;00m\n\u001b[0;32m---> 15\u001b[0m     rows \u001b[38;5;241m=\u001b[39m [\n\u001b[1;32m     16\u001b[0m         (\n\u001b[1;32m     17\u001b[0m             row[\u001b[38;5;124m'\u001b[39m\u001b[38;5;124mSector Name\u001b[39m\u001b[38;5;124m'\u001b[39m],\n\u001b[1;32m     18\u001b[0m             row[\u001b[38;5;124m'\u001b[39m\u001b[38;5;124mUnit ID\u001b[39m\u001b[38;5;124m'\u001b[39m],\n\u001b[1;32m     19\u001b[0m             row[\u001b[38;5;124m'\u001b[39m\u001b[38;5;124mOPEID\u001b[39m\u001b[38;5;124m'\u001b[39m],\n\u001b[1;32m     20\u001b[0m             row[\u001b[38;5;124m'\u001b[39m\u001b[38;5;124mInsitution Name\u001b[39m\u001b[38;5;124m'\u001b[39m],\n\u001b[1;32m     21\u001b[0m             row[\u001b[38;5;124m'\u001b[39m\u001b[38;5;124mState\u001b[39m\u001b[38;5;124m'\u001b[39m],\n\u001b[1;32m     22\u001b[0m             row[\u001b[38;5;124m'\u001b[39m\u001b[38;5;124m22/23 Tuition\u001b[39m\u001b[38;5;124m'\u001b[39m]\n\u001b[1;32m     23\u001b[0m         )\n\u001b[1;32m     24\u001b[0m         \u001b[38;5;28;01mfor\u001b[39;00m row \u001b[38;5;129;01min\u001b[39;00m reader\n\u001b[1;32m     25\u001b[0m     ]\n\u001b[1;32m     28\u001b[0m \u001b[38;5;66;03m# Insert the data into your table\u001b[39;00m\n\u001b[1;32m     29\u001b[0m cursor\u001b[38;5;241m.\u001b[39mexecutemany(\u001b[38;5;124m\"\"\"\u001b[39m\n\u001b[1;32m     30\u001b[0m \u001b[38;5;124m    INSERT INTO tuition (\u001b[39m\n\u001b[1;32m     31\u001b[0m \u001b[38;5;124m        Sector_Name, Unit_ID, OPEID, Instition_Name, State, 22/23_Tuition\u001b[39m\n\u001b[1;32m     32\u001b[0m \u001b[38;5;124m    ) VALUES (?, ?, ?, ?, ?, ?);\u001b[39m\n\u001b[1;32m     33\u001b[0m \u001b[38;5;124m\"\"\"\u001b[39m, rows)\n",
      "Cell \u001b[0;32mIn[15], line 17\u001b[0m, in \u001b[0;36m<listcomp>\u001b[0;34m(.0)\u001b[0m\n\u001b[1;32m     13\u001b[0m \u001b[38;5;28;01mwith\u001b[39;00m \u001b[38;5;28mopen\u001b[39m(file_path, \u001b[38;5;124m'\u001b[39m\u001b[38;5;124mr\u001b[39m\u001b[38;5;124m'\u001b[39m, encoding\u001b[38;5;241m=\u001b[39m\u001b[38;5;124m'\u001b[39m\u001b[38;5;124mutf-8\u001b[39m\u001b[38;5;124m'\u001b[39m) \u001b[38;5;28;01mas\u001b[39;00m file:\n\u001b[1;32m     14\u001b[0m     reader \u001b[38;5;241m=\u001b[39m csv\u001b[38;5;241m.\u001b[39mDictReader(file)  \u001b[38;5;66;03m# Automatically uses headers\u001b[39;00m\n\u001b[1;32m     15\u001b[0m     rows \u001b[38;5;241m=\u001b[39m [\n\u001b[1;32m     16\u001b[0m         (\n\u001b[0;32m---> 17\u001b[0m             row[\u001b[38;5;124m'\u001b[39m\u001b[38;5;124mSector Name\u001b[39m\u001b[38;5;124m'\u001b[39m],\n\u001b[1;32m     18\u001b[0m             row[\u001b[38;5;124m'\u001b[39m\u001b[38;5;124mUnit ID\u001b[39m\u001b[38;5;124m'\u001b[39m],\n\u001b[1;32m     19\u001b[0m             row[\u001b[38;5;124m'\u001b[39m\u001b[38;5;124mOPEID\u001b[39m\u001b[38;5;124m'\u001b[39m],\n\u001b[1;32m     20\u001b[0m             row[\u001b[38;5;124m'\u001b[39m\u001b[38;5;124mInsitution Name\u001b[39m\u001b[38;5;124m'\u001b[39m],\n\u001b[1;32m     21\u001b[0m             row[\u001b[38;5;124m'\u001b[39m\u001b[38;5;124mState\u001b[39m\u001b[38;5;124m'\u001b[39m],\n\u001b[1;32m     22\u001b[0m             row[\u001b[38;5;124m'\u001b[39m\u001b[38;5;124m22/23 Tuition\u001b[39m\u001b[38;5;124m'\u001b[39m]\n\u001b[1;32m     23\u001b[0m         )\n\u001b[1;32m     24\u001b[0m         \u001b[38;5;28;01mfor\u001b[39;00m row \u001b[38;5;129;01min\u001b[39;00m reader\n\u001b[1;32m     25\u001b[0m     ]\n\u001b[1;32m     28\u001b[0m \u001b[38;5;66;03m# Insert the data into your table\u001b[39;00m\n\u001b[1;32m     29\u001b[0m cursor\u001b[38;5;241m.\u001b[39mexecutemany(\u001b[38;5;124m\"\"\"\u001b[39m\n\u001b[1;32m     30\u001b[0m \u001b[38;5;124m    INSERT INTO tuition (\u001b[39m\n\u001b[1;32m     31\u001b[0m \u001b[38;5;124m        Sector_Name, Unit_ID, OPEID, Instition_Name, State, 22/23_Tuition\u001b[39m\n\u001b[1;32m     32\u001b[0m \u001b[38;5;124m    ) VALUES (?, ?, ?, ?, ?, ?);\u001b[39m\n\u001b[1;32m     33\u001b[0m \u001b[38;5;124m\"\"\"\u001b[39m, rows)\n",
      "\u001b[0;31mKeyError\u001b[0m: 'Sector Name'"
     ]
    }
   ],
   "source": [
    "#import data from csv into table in SQLite table\n",
    "\n",
    "import csv\n",
    "\n",
    "#add data from csv to table (for Mac)\n",
    "file_path = \"/Users/Public/College_Data/collegetuition.csv\"\n",
    "\n",
    "# Connect to your SQLite database\n",
    "conn = sqlite3.connect('tuition.db')\n",
    "cursor = conn.cursor()\n",
    "\n",
    "# Open the CSV file\n",
    "with open(file_path, 'r', encoding='utf-8') as file:\n",
    "    reader = csv.DictReader(file)  # Automatically uses headers\n",
    "    rows = [\n",
    "        (\n",
    "            row['Sector Name'],\n",
    "            row['Unit ID'],\n",
    "            row['OPEID'],\n",
    "            row['Insitution Name'],\n",
    "            row['State'],\n",
    "            row['22/23 Tuition']\n",
    "        )\n",
    "        for row in reader\n",
    "    ]\n",
    "\n",
    "\n",
    "# Insert the data into your table\n",
    "cursor.executemany(\"\"\"\n",
    "    INSERT INTO tuition (\n",
    "        Sector_Name, Unit_ID, OPEID, Instition_Name, State, 22/23_Tuition\n",
    "    ) VALUES (?, ?, ?, ?, ?, ?);\n",
    "\"\"\", rows)\n",
    "\n",
    "# Save and close\n",
    "conn.commit()\n",
    "conn.close()\n",
    "\n",
    "print(\"✅ Data imported successfully.\")\n",
    "\n",
    "\n"
   ]
  },
  {
   "cell_type": "markdown",
   "id": "8d00ac22-fbe2-4898-999a-3d6bafc0b681",
   "metadata": {},
   "source": [
    "<div style=\"background-color: #FF46A2; padding:25px; border-radius: 10px;\">\n",
    "<strong>Reminder:</strong> Put in the Code Reference Notebook.\n",
    "</div>"
   ]
  },
  {
   "cell_type": "code",
   "execution_count": null,
   "id": "10da635b-46be-4914-abe1-be93ae0e8509",
   "metadata": {},
   "outputs": [],
   "source": [
    "'''\n",
    "🧠 Final Tip:\n",
    "If you ever get a KeyError again, just print reader.fieldnames to verify how the column names are written.\n",
    "'''"
   ]
  },
  {
   "cell_type": "code",
   "execution_count": null,
   "id": "fa819145-3591-4dac-b799-25ecf0227359",
   "metadata": {},
   "outputs": [],
   "source": [
    "# Open the CSV file\n",
    "with open(file_path, 'r', encoding='utf-8') as file:\n",
    "    reader = csv.DictReader(file)  # Automatically uses headers\n",
    "    rows = [\n",
    "        (\n",
    "            row['Sector name'],\n",
    "            row['Unit ID'],\n",
    "            row['OPEID'],\n",
    "            row['Institution Name'],  # ✅ Fixed typo\n",
    "            row['State'],\n",
    "            row['22/23 Tuition']\n",
    "        )\n",
    "        for row in reader\n",
    "    ]\n",
    "\n",
    "# Insert the data into your table\n",
    "cursor.executemany(\"\"\"\n",
    "    INSERT INTO tuition (\n",
    "        Sector name, Unit ID, OPEID, Institution Name, State, \"22/23 Tuition\"\n",
    "    ) VALUES (?, ?, ?, ?, ?, ?); \n",
    "\"\"\", rows)\n",
    "\n",
    "# Save and close\n",
    "conn.commit()\n",
    "conn.close()\n",
    "\n",
    "print(\"✅ Data imported successfully.\")\n"
   ]
  },
  {
   "cell_type": "code",
   "execution_count": null,
   "id": "1291cdfc-fcf6-4f6c-890f-f8a0a4836d3a",
   "metadata": {},
   "outputs": [],
   "source": [
    "# Replace this with your actual CSV file path\n",
    "file_path = \"/Users/Public/College_Data/collegetuition.csv\"\n",
    "\n",
    "# Open the CSV and print the headers\n",
    "with open(file_path, 'r', encoding='utf-8') as file:\n",
    "    reader = csv.DictReader(file)\n",
    "    print(\"CSV headers:\", reader.fieldnames)\n"
   ]
  },
  {
   "cell_type": "code",
   "execution_count": null,
   "id": "9bcccc1b-9d15-4d06-9e35-4de6baea5771",
   "metadata": {},
   "outputs": [],
   "source": [
    "# Open the CSV file\n",
    "with open(file_path, 'r', encoding='utf-8') as file:\n",
    "    reader = csv.DictReader(file)  # Automatically uses headers\n",
    "    rows = [\n",
    "        (\n",
    "            row['Sector name'],\n",
    "            row['UnitID'],\n",
    "            row['OPEID'],\n",
    "            row['Name of institution'],  # ✅ Fixed typo here\n",
    "            row['State'],\n",
    "            row['2022-23 Tuition and fees']\n",
    "        )\n",
    "        for row in reader\n",
    "    ]\n",
    "\n",
    "# Insert the data into your table\n",
    "cursor.executemany(\"\"\"\n",
    "    INSERT INTO tuition (\n",
    "        Sector name, UnitID, OPEID, Name of institution, State, \"2022-23 Tuition and fees\"\n",
    "    ) VALUES (?, ?, ?, ?, ?, ?);\n",
    "\"\"\", rows)\n",
    "\n",
    "# Save and close\n",
    "conn.commit()\n",
    "conn.close()\n",
    "\n",
    "print(\"✅ Data imported successfully.\")\n"
   ]
  },
  {
   "cell_type": "code",
   "execution_count": null,
   "id": "38d32dc3-c7bf-4c72-809c-2b551d61e604",
   "metadata": {},
   "outputs": [],
   "source": [
    "# Open the CSV file\n",
    "with open(file_path, 'r', encoding='utf-8') as file:\n",
    "    reader = csv.DictReader(file)  # Automatically uses headers\n",
    "    rows = [\n",
    "        (\n",
    "            row['Sector name'],\n",
    "            row['UnitID'],\n",
    "            row['OPEID'],\n",
    "            row['Name of institution'],  # ✅ Fixed typo here\n",
    "            row['State'],\n",
    "            row['2022-23 Tuition and fees']\n",
    "        )\n",
    "        for row in reader\n",
    "    ]\n",
    "\n",
    "cursor.executemany(\"\"\"\n",
    "    INSERT INTO tuition (\n",
    "        \"Sector name\", \n",
    "        \"UnitID\", \n",
    "        \"OPEID\", \n",
    "        \"Name of institution\", \n",
    "        \"State\", \n",
    "        \"2022-23 Tuition and fees\"\n",
    "    ) VALUES (?, ?, ?, ?, ?, ?);\n",
    "\"\"\", rows)\n"
   ]
  },
  {
   "cell_type": "code",
   "execution_count": null,
   "id": "51ed0428-da19-4401-8e71-d3feb5e2916d",
   "metadata": {},
   "outputs": [],
   "source": [
    "#the issue I'm now having is that I named my column names in the table\n",
    "#something different than what's in the file, which is causing these issues.\n",
    "#to troubleshoot this, I'm going to change the column names in the file so\n",
    "#that is matches the table.\n",
    "\n",
    "#to find the exact column names, I can use the following code\n",
    "'''\n",
    "import sqlite3\n",
    "\n",
    "# Connect to your database\n",
    "conn = sqlite3.connect('your_database.db')  # Replace with your actual database name\n",
    "cursor = conn.cursor()\n",
    "\n",
    "# Get column info\n",
    "cursor.execute(\"PRAGMA table_info(tuition);\")  # Replace 'tuition' with your table name\n",
    "columns = cursor.fetchall()\n",
    "\n",
    "# Print column names\n",
    "'''"
   ]
  },
  {
   "cell_type": "code",
   "execution_count": null,
   "id": "60f88e51-9984-45ce-9191-57c3123ce732",
   "metadata": {},
   "outputs": [],
   "source": []
  },
  {
   "cell_type": "markdown",
   "id": "597926c1-a1ab-444e-bcfb-18db0d35a5cc",
   "metadata": {},
   "source": [
    "<div style=\"background-color: #FF46A2; padding:25px; border-radius: 10px;\">\n",
    "<strong>Reminder:</strong> Put in the Code Reference Notebook.\n",
    "</div>"
   ]
  },
  {
   "cell_type": "code",
   "execution_count": null,
   "id": "b319181a-edf8-434c-9969-023e5cfeb598",
   "metadata": {},
   "outputs": [],
   "source": []
  },
  {
   "cell_type": "code",
   "execution_count": null,
   "id": "f3ad7be3-39cb-4d48-b559-c188cd7cd92b",
   "metadata": {},
   "outputs": [],
   "source": []
  },
  {
   "cell_type": "code",
   "execution_count": null,
   "id": "c6ddae83-8019-4674-b843-2930f41711c2",
   "metadata": {},
   "outputs": [],
   "source": [
    "#to create this type of note below--change the cell type to markdown and use the following code:\n",
    "'''\n",
    "<div style=\"background-color: #fff3cd; padding: 10px; border-radius: 5px;\">\n",
    "<strong>Reminder:</strong> Put in the Code Reference Notebook.\n",
    "</div>\n",
    "'''"
   ]
  },
  {
   "cell_type": "code",
   "execution_count": null,
   "id": "a72fe94b-158b-4e87-a836-20f6a44fb8c1",
   "metadata": {},
   "outputs": [],
   "source": [
    "\n",
    "# Connect to the database\n",
    "conn = sqlite3.connect('tuition.db')  # Replace with your actual database name\n",
    "cursor = conn.cursor()\n",
    "\n",
    "# Get column info\n",
    "cursor.execute(\"PRAGMA table_info(tuition);\")  # Replace 'tuition' with your table name\n",
    "columns = cursor.fetchall()\n",
    "\n",
    "# Print column names\n",
    "for col in columns:\n",
    "    print(f\"Column name: {col[1]}, Data type: {col[2]}\")\n",
    "\n",
    "conn.close()\n"
   ]
  },
  {
   "cell_type": "code",
   "execution_count": null,
   "id": "5e0a9128-12a9-4dda-a572-e85fa967ac43",
   "metadata": {},
   "outputs": [],
   "source": [
    "# Open the CSV file\n",
    "with open(file_path, 'r', encoding='utf-8') as file:\n",
    "    reader = csv.DictReader(file)  # Automatically uses headers\n",
    "    rows = [\n",
    "        (\n",
    "         \n",
    "        )\n",
    "        for row in reader\n",
    "    ]\n",
    "\n",
    "# Connect to the database\n",
    "conn = sqlite3.connect('tuition.db')  # Replace with your actual database name\n",
    "cursor = conn.cursor()\n",
    "\n",
    "# Insert the data into your table\n",
    "cursor.executemany(\"\"\"\n",
    "    INSERT INTO tuition (\n",
    "        Sector_Name, Unit_ID, OPEID, Institution_Name, State, \"22/23_Tuition\"\n",
    "    ) VALUES (?, ?, ?, ?, ?, ?);\n",
    "\"\"\", rows)\n",
    "\n",
    "# Save and close\n",
    "conn.commit()\n",
    "conn.close()\n",
    "\n",
    "print(\"✅ Data imported successfully.\")"
   ]
  },
  {
   "cell_type": "code",
   "execution_count": null,
   "id": "7bc76c26-c66e-4ed3-88f8-4b0bfcbefd24",
   "metadata": {},
   "outputs": [],
   "source": [
    "# Open the CSV file\n",
    "with open(file_path, 'r', encoding='utf-8') as file:\n",
    "    reader = csv.DictReader(file)  # Automatically uses headers\n",
    "    rows = [\n",
    "        (\n",
    "            row['Sector_Name'],\n",
    "            row['Unit_ID'],\n",
    "            row['OPEID'],\n",
    "            row['Institution_Name'], \n",
    "            row['State'],\n",
    "            row[\"22/23_Tuition\"]\n",
    "        )\n",
    "        for row in reader\n",
    "    ]\n",
    "\n",
    "# Connect to the database\n",
    "conn = sqlite3.connect('tuition.db')  # Replace with your actual database name\n",
    "cursor = conn.cursor()\n",
    "\n",
    "# Insert the data into your table\n",
    "cursor.executemany(\"\"\"\n",
    "    INSERT INTO tuition (\n",
    "        Sector_Name, Unit_ID, OPEID, Institution_Name, State, \"22/23_Tuition\"\n",
    "    ) VALUES (?, ?, ?, ?, ?, ?);\n",
    "\"\"\", rows)\n",
    "\n",
    "# Save and close\n",
    "conn.commit()\n",
    "conn.close()\n",
    "\n",
    "print(\"✅ Data imported successfully.\")"
   ]
  },
  {
   "cell_type": "code",
   "execution_count": null,
   "id": "bb673c0b-1e54-45e3-b87b-e03b91294f0a",
   "metadata": {},
   "outputs": [],
   "source": [
    "##to find all the databases in SQLite\n",
    "\n",
    "import os\n",
    "\n",
    "folder_path = \"/Users/emilykund/Documents\"  # change this to your target folder\n",
    "db_files = [f for f in os.listdir(folder_path) if f.endswith('.db')]\n",
    "\n",
    "print(\"📂 SQLite database files found:\")\n",
    "for db in db_files:\n",
    "    print(f\"• {db}\")\n"
   ]
  },
  {
   "cell_type": "markdown",
   "id": "78e8c603-a5ee-44db-8c23-ace3a41ea862",
   "metadata": {},
   "source": [
    "<div style=\"background-color: #FF46A2; padding:25px; border-radius: 10px;\">\n",
    "<strong>Reminder:</strong> Put in the Code Reference Notebook.\n",
    "</div>"
   ]
  },
  {
   "cell_type": "code",
   "execution_count": null,
   "id": "02fe98e9-dfab-4e59-a3a8-92e0bc1e5dcf",
   "metadata": {},
   "outputs": [],
   "source": [
    "import os\n",
    "folder_path = \"/Users/emilykund\"  # change this to your target folder\n",
    "db_files = [f for f in os.listdir(folder_path) if f.endswith('.db')]\n",
    "\n",
    "print(\"📂 SQLite database files found:\")\n",
    "for db in db_files:\n",
    "    print(f\"• {db}\")"
   ]
  },
  {
   "cell_type": "code",
   "execution_count": null,
   "id": "1cb71287-a651-4069-8958-81606a471316",
   "metadata": {},
   "outputs": [],
   "source": [
    "# Connect to the database\n",
    "conn = sqlite3.connect('collegedata.db')  # Replace with your actual database name\n",
    "cursor = conn.cursor()\n",
    "\n",
    "# Get column info\n",
    "cursor.execute(\"PRAGMA table_info(collegedata);\") \n",
    "columns = cursor.fetchall()\n",
    "\n",
    "# Print column names\n",
    "for col in columns:\n",
    "    print(f\"Column name: {col[1]}, Data type: {col[2]}\")\n",
    "\n",
    "conn.close()"
   ]
  },
  {
   "cell_type": "code",
   "execution_count": null,
   "id": "29bc6bd8-561b-4eb2-9ef4-99134a1177f9",
   "metadata": {},
   "outputs": [],
   "source": []
  },
  {
   "cell_type": "code",
   "execution_count": null,
   "id": "a78caddb-3f23-4c33-bc74-9c4ab99e52ff",
   "metadata": {},
   "outputs": [],
   "source": []
  },
  {
   "cell_type": "code",
   "execution_count": null,
   "id": "8aa519f2-2244-4fad-b50d-a8893c27be74",
   "metadata": {},
   "outputs": [],
   "source": []
  },
  {
   "cell_type": "code",
   "execution_count": null,
   "id": "cd794680-7899-4062-813a-99d0b714e7d4",
   "metadata": {},
   "outputs": [],
   "source": [
    "'''\n",
    "the prior line was not printing, so to troubleshoot it, here's what I'm doing:\n",
    "1. checking the name of the table\n",
    "2. checking that if the table does exist that it has columns\n",
    "3. Get the raw results of the table info command:\n",
    "\n",
    "cursor.execute(\"SELECT name FROM sqlite_master WHERE type='table';\")\n",
    "tables = cursor.fetchall()\n",
    "print(\"Tables in the database:\", tables)\n",
    "\n",
    "'''"
   ]
  },
  {
   "cell_type": "code",
   "execution_count": null,
   "id": "933f2b79-8d8b-48b1-a6b5-370e80f050c8",
   "metadata": {},
   "outputs": [],
   "source": [
    "#check to see if the table exists\n",
    "# Connect to the database\n",
    "conn = sqlite3.connect('collegedata.db')  # Replace with your actual database name\n",
    "cursor = conn.cursor()\n",
    "\n",
    "cursor.execute(\"SELECT name FROM sqlite_master WHERE type='table';\")\n",
    "tables = cursor.fetchall()\n",
    "print(\"Tables in the database:\", tables)\n"
   ]
  },
  {
   "cell_type": "code",
   "execution_count": null,
   "id": "52aa3fbf-cb51-44c2-b4c6-06181ca1b576",
   "metadata": {},
   "outputs": [],
   "source": [
    "# Create a table if it doesn't exist\n",
    "\n",
    "conn = sqlite3.connect('collegedata.db')\n",
    "cursor = conn.cursor()\n",
    "\n",
    "cursor.execute(\"\"\"\n",
    "    CREATE TABLE IF NOT EXISTS collegedata (\n",
    "        'School Name' TEXT,\n",
    "        Address REAL,\n",
    "        City TEXT,\n",
    "        State TEXT,\n",
    "        Zipcode NUMERIC,\n",
    "        Type REAL,\n",
    "        'Degrees Offered' REAL,\n",
    "        'Campus Setting' TEXT,\n",
    "        'Campus Housing' TEXT,\n",
    "        'Student Population' NUMERIC,\n",
    "        'Undergraduate Students' NUMERIC,\n",
    "        'Public-Private' TEXT,\n",
    "        'Published In-state Tuition and Fees ($)' NUMERIC,\n",
    "        'Published Out-of-state Tuition and Fees ($)' NUMERIC\n",
    "        'Profile Link to College Navigator' REAL\n",
    "    );\n",
    "\"\"\")\n",
    "conn.commit()  # Saves changes\n",
    "conn.close()   # Closes the connection when done"
   ]
  },
  {
   "cell_type": "code",
   "execution_count": null,
   "id": "26f1a502-c21c-48c7-a358-e9de784a7479",
   "metadata": {},
   "outputs": [],
   "source": [
    "#import data from csv into table in SQLite table\n",
    "\n",
    "import csv\n",
    "\n",
    "#add data from csv to table (for Mac)\n",
    "file_path = \"/Users/Public/College_Data/CollegeData.csv\"\n",
    "\n",
    "# Connect to your SQLite database\n",
    "conn = sqlite3.connect('collegedata.db')\n",
    "cursor = conn.cursor()\n",
    "\n",
    "# Open the CSV file\n",
    "with open(file_path, 'r', encoding='utf-8') as file:\n",
    "    reader = csv.DictReader(file)  # Automatically uses headers\n",
    "    rows = [\n",
    "        (\n",
    "            row['School Name'],\n",
    "            row['Address'],\n",
    "            row['City'],\n",
    "            row['State'],\n",
    "            row['Zipcode'],\n",
    "            row['Type'],\n",
    "            row['Degrees Offered'],\n",
    "            row['Campus Setting'],\n",
    "            row['Campus Housing'],\n",
    "            row['Student Population'],\n",
    "            row['Undergraduate Students'],\n",
    "            row['Public-Private'],\n",
    "            row['Published In-state Tuition and Fees ($)'],\n",
    "            row['Published Out-of-state Tuition and Fees ($)'],\n",
    "            row['Profile Link to College Navigator']    \n",
    "        )\n",
    "        for row in reader\n",
    "    ]\n",
    "\n",
    "# Insert the data into your table\n",
    "cursor.executemany(\"\"\"\n",
    "    INSERT INTO collegedata (\n",
    "    'School Name', Address, City, State, Zipcode, Type, 'Degrees Offered', 'Campus Setting', 'Campus Housing', 'Student Population', \n",
    "    'Undergraduate Students','Public-Private', 'Published In-state Tuition and Fees($)',  'Published Out-of-state Tuition and Fees($)',\n",
    "    'Profile Link to College Navigator'\n",
    "    \n",
    "    ) VALUES (?, ?, ?, ?, ?, ?);\n",
    "\"\"\", rows)\n",
    "\n",
    "# Save and close\n",
    "conn.commit()\n",
    "conn.close()\n",
    "\n",
    "print(\"✅ Data imported successfully.\")"
   ]
  },
  {
   "cell_type": "code",
   "execution_count": null,
   "id": "ac9239b4-444e-47e4-bb0f-6797c5febfad",
   "metadata": {},
   "outputs": [],
   "source": [
    "print(\"CSV headers:\", reader.fieldnames)"
   ]
  },
  {
   "cell_type": "code",
   "execution_count": null,
   "id": "352351e5-0a78-408c-80d9-8f3efa506aa6",
   "metadata": {},
   "outputs": [],
   "source": []
  },
  {
   "cell_type": "code",
   "execution_count": null,
   "id": "a61c478b-94b4-4e4f-afd0-53b459e27467",
   "metadata": {},
   "outputs": [],
   "source": [
    "# Print out column names and types\n",
    "cursor.execute(\"PRAGMA table_info(collegedata);\")\n",
    "for col in cursor.fetchall():\n",
    "    print(f\"{col[1]} ({col[2]})\")\n"
   ]
  },
  {
   "cell_type": "code",
   "execution_count": null,
   "id": "fd803729-a042-4439-9a15-063db72e3093",
   "metadata": {},
   "outputs": [],
   "source": [
    "#because there are a few columns that are messed up, I'm going to create a new table with the correct column names, delete the old one and then rename the new one. "
   ]
  },
  {
   "cell_type": "code",
   "execution_count": null,
   "id": "b5ca8613-1746-4841-83c7-1c0ba1284b16",
   "metadata": {},
   "outputs": [],
   "source": [
    "# Create a table if it doesn't exist\n",
    "\n",
    "conn = sqlite3.connect('collegedata.db')\n",
    "cursor = conn.cursor()\n",
    "\n",
    "cursor.execute(\"\"\"\n",
    "    CREATE TABLE IF NOT EXISTS collegedata_new (\n",
    "        'School Name' TEXT,\n",
    "        'Address' REAL,\n",
    "        'City' TEXT,\n",
    "        'State' TEXT,\n",
    "        'Zipcode' NUMERIC,\n",
    "        'Type' REAL,\n",
    "        'Degrees Offered' REAL,\n",
    "        'Campus Setting' TEXT,\n",
    "        'Campus Housing' TEXT,\n",
    "        'Student Population' NUMERIC,\n",
    "        'Undergraduate Students' NUMERIC,\n",
    "        'Public-Private' TEXT,\n",
    "        'Published In-state Tuition and Fees ($)' NUMERIC,\n",
    "        'Published Out-of-state Tuition and Fees ($)' NUMERIC,\n",
    "        'Profile Link to College Navigator' REAL\n",
    "    );\n",
    "\"\"\")\n",
    "conn.commit()  # Saves changes\n",
    "conn.close()   # Closes the connection when done"
   ]
  },
  {
   "cell_type": "code",
   "execution_count": null,
   "id": "e6c966f3-2466-4f82-9adc-42d5183ec1a5",
   "metadata": {},
   "outputs": [],
   "source": [
    "# drop the old table \n",
    "# Connect to the database\n",
    "conn = sqlite3.connect('collegedata.db')\n",
    "cursor = conn.cursor()\n",
    "\n",
    "# Delete the table (if it exists)\n",
    "cursor.execute(\"DROP TABLE IF EXISTS collegedata;\")\n",
    "\n",
    "# Commit and close\n",
    "conn.commit()\n",
    "conn.close()\n",
    "\n",
    "print(\"✅ Table 'collegedata' deleted successfully.\")"
   ]
  },
  {
   "cell_type": "code",
   "execution_count": null,
   "id": "f6fb67e9-37a6-4552-b2d8-61e9341912cb",
   "metadata": {},
   "outputs": [],
   "source": [
    "#rename table\n",
    "ALTER TABLE collegedata_new RENAME TO collegedata;\n",
    "print(\"✅ Table 'collegedata' renamed successfully.\")"
   ]
  },
  {
   "cell_type": "code",
   "execution_count": null,
   "id": "8610d119-3629-4c88-96d6-c110a3f04e6b",
   "metadata": {},
   "outputs": [],
   "source": [
    "'''\n",
    "got the code in cell 99 from the chatgpt but it didn't work.  The recommended troubleshooting steps:\n",
    "1. Check the SQLite version. 3.35 or lower, you need to do a workaround. \n",
    "'''\n",
    "\n",
    "import sqlite3\n",
    "print(\"SQLite version:\", sqlite3.sqlite_version)\n"
   ]
  },
  {
   "cell_type": "code",
   "execution_count": null,
   "id": "a81a078b-2a10-49f4-bf96-97ab4a2a81ec",
   "metadata": {},
   "outputs": [],
   "source": [
    "#troubleshoot step 2 open and interact with db then write the code, close the connection.\n",
    "\n",
    "import sqlite3\n",
    "\n",
    "conn = sqlite3.connect('collegedata.db')\n",
    "cursor = conn.cursor()\n",
    "\n",
    "cursor.execute('ALTER TABLE collegedata_new RENAME TO collegedata;')\n",
    "conn.commit()\n",
    "conn.close()\n"
   ]
  },
  {
   "cell_type": "code",
   "execution_count": null,
   "id": "ad620c44-ec4a-4c61-9d6f-d2ff08d70cd0",
   "metadata": {},
   "outputs": [],
   "source": [
    "#import data from csv into table in SQLite table\n",
    "\n",
    "import csv\n",
    "\n",
    "#add data from csv to table (for Mac)\n",
    "file_path = \"/Users/Public/College_Data/CollegeData.csv\"\n",
    "\n",
    "# Connect to your SQLite database\n",
    "conn = sqlite3.connect('collegedata.db')\n",
    "cursor = conn.cursor()\n",
    "\n",
    "# Open the CSV file\n",
    "with open(file_path, 'r', encoding='utf-8') as file:\n",
    "    reader = csv.DictReader(file)  # Automatically uses headers\n",
    "    rows = [\n",
    "        (\n",
    "            row['School Name'],\n",
    "            row['Address'],\n",
    "            row['City'],\n",
    "            row['State'],\n",
    "            row['Zipcode'],\n",
    "            row['Type'],\n",
    "            row['Degrees Offered'],\n",
    "            row['Campus Setting'],\n",
    "            row['Campus Housing'],\n",
    "            row['Student Population'],\n",
    "            row['Undergraduate Students'],\n",
    "            row['Public-Private'],\n",
    "            row['Published In-state Tuition and Fees ($)'],\n",
    "            row['Published Out-of-state Tuition and Fees ($)'],\n",
    "            row['Profile Link to College Navigator']    \n",
    "        )\n",
    "        for row in reader\n",
    "    ]\n",
    "\n",
    "# Insert the data into your table\n",
    "cursor.executemany(\"\"\"\n",
    "    INSERT INTO collegedata (\n",
    "    'School Name', Address, City, State, Zipcode, Type, 'Degrees Offered', 'Campus Setting', 'Campus Housing', 'Student Population', \n",
    "    'Undergraduate Students','Public-Private', 'Published In-state Tuition and Fees ($)',  'Published Out-of-state Tuition and Fees ($)',\n",
    "    'Profile Link to College Navigator'\n",
    "    \n",
    "    ) VALUES (?, ?, ?, ?, ?, ?);\n",
    "\"\"\", rows)\n",
    "\n",
    "# Save and close\n",
    "conn.commit()\n",
    "conn.close()\n",
    "\n",
    "print(\"✅ Data imported successfully.\")"
   ]
  },
  {
   "cell_type": "code",
   "execution_count": null,
   "id": "fa321d69-230e-444f-ae0a-043085062bf7",
   "metadata": {},
   "outputs": [],
   "source": [
    "# Print out column names and types\n",
    "cursor.execute(\"PRAGMA table_info(collegedata);\")\n",
    "for col in cursor.fetchall():\n",
    "    print(f\"{col[1]} ({col[2]})\")"
   ]
  },
  {
   "cell_type": "code",
   "execution_count": null,
   "id": "a6e49727-53d9-49e2-8ef5-fe7b7391b804",
   "metadata": {},
   "outputs": [],
   "source": [
    "#import data from csv into table in SQLite table\n",
    "\n",
    "import csv\n",
    "\n",
    "#add data from csv to table (for Mac)\n",
    "file_path = \"/Users/Public/College_Data/CollegeData.csv\"\n",
    "\n",
    "# Connect to your SQLite database\n",
    "conn = sqlite3.connect('collegedata.db')\n",
    "cursor = conn.cursor()\n",
    "\n",
    "# Open the CSV file\n",
    "with open(file_path, 'r', encoding='utf-8') as file:\n",
    "    reader = csv.DictReader(file)  # Automatically uses headers\n",
    "    rows = [\n",
    "        (\n",
    "            row['School Name'],\n",
    "            row['Address'],\n",
    "            row['City'],\n",
    "            row['State'],\n",
    "            row['Zipcode'],\n",
    "            row['Type'],\n",
    "            row['Degrees Offered'],\n",
    "            row['Campus Setting'],\n",
    "            row['Campus Housing'],\n",
    "            row['Student Population'],\n",
    "            row['Undergraduate Students'],\n",
    "            row['Public-Private'],\n",
    "            row['Published In-state Tuition and Fees ($)'],\n",
    "            row['Published Out-of-state Tuition and Fees ($)'],\n",
    "            row['Profile Link to College Navigator']    \n",
    "        )\n",
    "        for row in reader\n",
    "    ]\n",
    "\n",
    "# Insert the data into your table\n",
    "cursor.executemany(\"\"\"\n",
    "    INSERT INTO collegedata (\n",
    "    'School Name', Address, City, State, Zipcode, Type, 'Degrees Offered', 'Campus Setting', 'Campus Housing', 'Student Population', \n",
    "    'Undergraduate Students','Public-Private', 'Published In-state Tuition and Fees ($)',  'Published Out-of-state Tuition and Fees ($)',\n",
    "    'Profile Link to College Navigator'\n",
    "    \n",
    "    ) VALUES (?, ?, ?, ?, ?, ?);\n",
    "\"\"\", rows)\n",
    "\n",
    "# Save and close\n",
    "conn.commit()\n",
    "conn.close()\n",
    "\n",
    "print(\"✅ Data imported successfully.\")"
   ]
  },
  {
   "cell_type": "code",
   "execution_count": null,
   "id": "b80214f0-0135-41fb-a49d-2aaa9120bb00",
   "metadata": {},
   "outputs": [],
   "source": [
    "conn = sqlite3.connect('collegedata.db')\n",
    "cursor = conn.cursor()\n",
    "\n",
    "cursor.execute('ALTER TABLE collegedata DROP COLUMN \"Published Out-of-state Tuition and Fees ($)\";')\n",
    "cursor.execute(\"PRAGMA table_info(collegedata);\")\n",
    "for col in cursor.fetchall():\n",
    "    print(f\"{col[1]} ({col[2]})\")\n",
    "conn.commit()\n",
    "conn.close()\n"
   ]
  },
  {
   "cell_type": "code",
   "execution_count": null,
   "id": "75a3f690-ad2d-4c50-a115-89c2fe820833",
   "metadata": {},
   "outputs": [],
   "source": [
    "conn = sqlite3.connect('collegedata.db')\n",
    "cursor = conn.cursor()\n",
    "\n",
    "cursor.execute('ALTER TABLE collegedata ADD COLUMN \"Published Out-of-state Tuition and Fees ($)\";')\n",
    "cursor.execute(\"PRAGMA table_info(collegedata);\")\n",
    "for col in cursor.fetchall():\n",
    "    print(f\"{col[1]} ({col[2]})\")\n",
    "conn.commit()\n",
    "conn.close()"
   ]
  },
  {
   "cell_type": "code",
   "execution_count": null,
   "id": "b60f1395-f4c2-4c4a-8de5-dee28996ced1",
   "metadata": {},
   "outputs": [],
   "source": [
    "conn = sqlite3.connect('collegedata.db')\n",
    "cursor = conn.cursor()\n",
    "\n",
    "cursor.execute('ALTER TABLE collegedata ADD COLUMN \"Profile Link to College Navigator\";')\n",
    "cursor.execute(\"PRAGMA table_info(collegedata);\")\n",
    "for col in cursor.fetchall():\n",
    "    print(f\"{col[1]} ({col[2]})\")\n",
    "conn.commit()\n",
    "conn.close()"
   ]
  },
  {
   "cell_type": "code",
   "execution_count": 37,
   "id": "a492acec-1141-4921-9101-f9bc1a5cff18",
   "metadata": {},
   "outputs": [
    {
     "name": "stdout",
     "output_type": "stream",
     "text": [
      "✅ Data imported successfully.\n"
     ]
    }
   ],
   "source": [
    "#import data from csv into table in SQLite table\n",
    "\n",
    "import csv\n",
    "\n",
    "#add data from csv to table (for Mac)\n",
    "file_path = \"/Users/Public/College_Data/CollegeData.csv\"\n",
    "\n",
    "# Connect to your SQLite database\n",
    "conn = sqlite3.connect('collegedata.db')\n",
    "cursor = conn.cursor()\n",
    "\n",
    "# Open the CSV file\n",
    "with open(file_path, 'r', encoding='utf-8') as file:\n",
    "    reader = csv.DictReader(file)  # Automatically uses headers\n",
    "    rows = [\n",
    "        (\n",
    "            row['School Name'],\n",
    "            row['Address'],\n",
    "            row['City'],\n",
    "            row['State'],\n",
    "            row['Zipcode'],\n",
    "            row['Type'],\n",
    "            row['Degrees Offered'],\n",
    "            row['Campus Setting'],\n",
    "            row['Campus Housing'],\n",
    "            row['Student Population'],\n",
    "            row['Undergraduate Students'],\n",
    "            row['Public-Private'],\n",
    "            row['Published In-state Tuition and Fees ($)'],\n",
    "            row['Published Out-of-state Tuition and Fees ($)'],\n",
    "            row['Profile Link to College Navigator']    \n",
    "        )\n",
    "        for row in reader\n",
    "    ]\n",
    "\n",
    "# Insert the data into your table\n",
    "cursor.executemany(\"\"\"\n",
    "    INSERT INTO collegedata (\n",
    "    'School Name', Address, City, State, Zipcode, Type, 'Degrees Offered', 'Campus Setting', 'Campus Housing', 'Student Population', \n",
    "    'Undergraduate Students','Public-Private', 'Published In-state Tuition and Fees ($)',  'Published Out-of-state Tuition and Fees ($)',\n",
    "    'Profile Link to College Navigator'\n",
    "    \n",
    "    ) VALUES (?, ?, ?, ?, ?, ?, ?, ?, ?, ?, ?, ?, ?, ?, ?);\n",
    "\"\"\", rows)\n",
    "#the number of ? needs to match the number of coilumns\n",
    "\n",
    "# Save and close\n",
    "conn.commit()\n",
    "conn.close()\n",
    "\n",
    "print(\"✅ Data imported successfully.\")"
   ]
  },
  {
   "cell_type": "code",
   "execution_count": null,
   "id": "a1f54387-a017-4f2f-944f-aa64134be0cb",
   "metadata": {},
   "outputs": [],
   "source": []
  }
 ],
 "metadata": {
  "kernelspec": {
   "display_name": "Python [conda env:base] *",
   "language": "python",
   "name": "conda-base-py"
  },
  "language_info": {
   "codemirror_mode": {
    "name": "ipython",
    "version": 3
   },
   "file_extension": ".py",
   "mimetype": "text/x-python",
   "name": "python",
   "nbconvert_exporter": "python",
   "pygments_lexer": "ipython3",
   "version": "3.11.7"
  }
 },
 "nbformat": 4,
 "nbformat_minor": 5
}
